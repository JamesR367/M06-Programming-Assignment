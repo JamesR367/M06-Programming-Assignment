{
 "cells": [
  {
   "cell_type": "code",
   "execution_count": null,
   "id": "80749243",
   "metadata": {},
   "outputs": [],
   "source": [
    "#James Ramsey\n",
    "#M06 Programming Assignment -Concurrency in Python\n",
    "#writes the date to a file\n",
    "\n",
    "#13.1\n",
    "import locale\n",
    "from datetime import*\n",
    "\n",
    "now = date.today()\n",
    "f = open(\"today.txt\", \"a\")\n",
    "now2 = str(now)\n",
    "f.write(now2)\n",
    "f.close()"
   ]
  },
  {
   "cell_type": "code",
   "execution_count": 1,
   "id": "af6d4f71",
   "metadata": {},
   "outputs": [
    {
     "name": "stdout",
     "output_type": "stream",
     "text": [
      "2023-04-26\n"
     ]
    }
   ],
   "source": [
    "#James Ramsey\n",
    "#M06 Programming Assignment -Concurrency in Python\n",
    "#reads the file and prints the date as a variable\n",
    "\n",
    "#13.2\n",
    "f = open(\"today.txt\", \"r\")\n",
    "for x in f:\n",
    "  today_string = x\n",
    "print(today_string)"
   ]
  },
  {
   "cell_type": "code",
   "execution_count": 2,
   "id": "50f09115",
   "metadata": {},
   "outputs": [
    {
     "data": {
      "text/plain": [
       "time.struct_time(tm_year=2023, tm_mon=4, tm_mday=26, tm_hour=0, tm_min=0, tm_sec=0, tm_wday=2, tm_yday=116, tm_isdst=-1)"
      ]
     },
     "execution_count": 2,
     "metadata": {},
     "output_type": "execute_result"
    }
   ],
   "source": [
    "#James Ramsey\n",
    "#M06 Programming Assignment -Concurrency in Python\n",
    "#parses the date\n",
    "\n",
    "#13.3\n",
    "import time\n",
    "parsed_date = \"%Y-%m-%d\"\n",
    "time.strptime(today_string, parsed_date)"
   ]
  },
  {
   "cell_type": "code",
   "execution_count": 6,
   "id": "8fd7f667",
   "metadata": {},
   "outputs": [],
   "source": [
    "#James Ramsey\n",
    "#M06 Programming Assignment -Concurrency in Python\n",
    "#prints the time three times at random intervals\n",
    "\n",
    "#15.1\n",
    "import multiprocessing\n",
    "from random import random\n",
    "import time \n",
    "from datetime import datetime\n",
    "import os\n",
    "\n",
    "\n",
    "def printSeconds():\n",
    "    now = datetime.now()\n",
    "    current_time = now.strftime('%H:%M:%S')\n",
    "    print(current_time)\n",
    "\n",
    "if __name__ == \"__main__\":\n",
    "    for i in range(3):\n",
    "        p = multiprocessing.Process(target=printSeconds)\n",
    "        p.start()\n",
    "        time.sleep(random())"
   ]
  },
  {
   "cell_type": "code",
   "execution_count": null,
   "id": "6d801257",
   "metadata": {},
   "outputs": [],
   "source": []
  }
 ],
 "metadata": {
  "kernelspec": {
   "display_name": "Python 3 (ipykernel)",
   "language": "python",
   "name": "python3"
  },
  "language_info": {
   "codemirror_mode": {
    "name": "ipython",
    "version": 3
   },
   "file_extension": ".py",
   "mimetype": "text/x-python",
   "name": "python",
   "nbconvert_exporter": "python",
   "pygments_lexer": "ipython3",
   "version": "3.10.9"
  }
 },
 "nbformat": 4,
 "nbformat_minor": 5
}
